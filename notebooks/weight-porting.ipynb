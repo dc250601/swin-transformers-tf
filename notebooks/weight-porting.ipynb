{
 "cells": [
  {
   "cell_type": "code",
   "execution_count": 1,
   "id": "58be40e6",
   "metadata": {},
   "outputs": [],
   "source": [
    "import timm\n",
    "\n",
    "import tensorflow as tf\n",
    "import numpy as np"
   ]
  },
  {
   "cell_type": "code",
   "execution_count": 2,
   "id": "44ec8053",
   "metadata": {},
   "outputs": [],
   "source": [
    "import sys\n",
    "\n",
    "sys.path.append(\"..\")\n",
    "\n",
    "from swins import SwinTransformer\n",
    "from swins.layers import *\n",
    "from swins.blocks import *\n",
    "from utils import helpers"
   ]
  },
  {
   "cell_type": "code",
   "execution_count": 3,
   "id": "4a6d2831",
   "metadata": {},
   "outputs": [],
   "source": [
    "cfg = dict(\n",
    "    patch_size=4,\n",
    "    window_size=7,\n",
    "    embed_dim=128,\n",
    "    depths=(2, 2, 18, 2),\n",
    "    num_heads=(4, 8, 16, 32),\n",
    ")"
   ]
  },
  {
   "cell_type": "code",
   "execution_count": 4,
   "id": "ca754dcf",
   "metadata": {},
   "outputs": [
    {
     "name": "stderr",
     "output_type": "stream",
     "text": [
      "2022-05-08 17:54:16.700821: I tensorflow/core/platform/cpu_feature_guard.cc:151] This TensorFlow binary is optimized with oneAPI Deep Neural Network Library (oneDNN) to use the following CPU instructions in performance-critical operations:  AVX2 FMA\n",
      "To enable them in other operations, rebuild TensorFlow with the appropriate compiler flags.\n"
     ]
    },
    {
     "name": "stdout",
     "output_type": "stream",
     "text": [
      "Swin TF model created.\n"
     ]
    }
   ],
   "source": [
    "swin_base_patch4_window7_224_tf = SwinTransformer(\n",
    "    name=\"swin_base_patch4_window7_224\", **cfg\n",
    ")\n",
    "random_tensor = tf.random.normal((2, 224, 224, 3))\n",
    "outputs = swin_base_patch4_window7_224_tf(random_tensor, training=False)\n",
    "print(\"Swin TF model created.\")"
   ]
  },
  {
   "cell_type": "code",
   "execution_count": 5,
   "id": "a78cf779",
   "metadata": {},
   "outputs": [
    {
     "name": "stderr",
     "output_type": "stream",
     "text": [
      "/Users/sayakpaul/.local/bin/.virtualenvs/pytorch/lib/python3.8/site-packages/torch/functional.py:445: UserWarning: torch.meshgrid: in an upcoming release, it will be required to pass the indexing argument. (Triggered internally at  ../aten/src/ATen/native/TensorShape.cpp:2157.)\n",
      "  return _VF.meshgrid(tensors, **kwargs)  # type: ignore[attr-defined]\n"
     ]
    },
    {
     "name": "stdout",
     "output_type": "stream",
     "text": [
      "Swin PT model created.\n",
      "Number of parameters:\n",
      "87.768224\n"
     ]
    }
   ],
   "source": [
    "swin_base_patch4_window7_224_pt = timm.create_model(\n",
    "    model_name=\"swin_base_patch4_window7_224\", pretrained=True\n",
    ")\n",
    "print(\"Swin PT model created.\")\n",
    "print(\"Number of parameters:\")\n",
    "num_params = sum(p.numel() for p in swin_base_patch4_window7_224_pt.parameters())\n",
    "print(num_params / 1e6)\n",
    "\n",
    "assert swin_base_patch4_window7_224_tf.count_params() == num_params"
   ]
  },
  {
   "cell_type": "code",
   "execution_count": 6,
   "id": "89b8919c",
   "metadata": {},
   "outputs": [],
   "source": [
    "state_dict = swin_base_patch4_window7_224_pt.state_dict()\n",
    "np_state_dict = {k: state_dict[k].numpy() for k in state_dict}"
   ]
  },
  {
   "cell_type": "code",
   "execution_count": 7,
   "id": "e92c390e",
   "metadata": {},
   "outputs": [],
   "source": [
    "# Projection.\n",
    "swin_base_patch4_window7_224_tf.projection.layers[0] = helpers.modify_tf_block(\n",
    "    swin_base_patch4_window7_224_tf.projection.layers[0],\n",
    "    np_state_dict[\"patch_embed.proj.weight\"],\n",
    "    np_state_dict[\"patch_embed.proj.bias\"],\n",
    ")\n",
    "swin_base_patch4_window7_224_tf.projection.layers[2] = helpers.modify_tf_block(\n",
    "    swin_base_patch4_window7_224_tf.projection.layers[2],\n",
    "    np_state_dict[\"patch_embed.norm.weight\"],\n",
    "    np_state_dict[\"patch_embed.norm.bias\"],\n",
    ")"
   ]
  },
  {
   "cell_type": "code",
   "execution_count": 8,
   "id": "ef366046",
   "metadata": {},
   "outputs": [],
   "source": [
    "# Layer norm layers.\n",
    "ln_idx = -2\n",
    "swin_base_patch4_window7_224_tf.layers[ln_idx] = helpers.modify_tf_block(\n",
    "    swin_base_patch4_window7_224_tf.layers[ln_idx],\n",
    "    np_state_dict[\"norm.weight\"],\n",
    "    np_state_dict[\"norm.bias\"],\n",
    ")\n",
    "\n",
    "# Head layers.\n",
    "head_layer = swin_base_patch4_window7_224_tf.get_layer(\"classification_head\")\n",
    "swin_base_patch4_window7_224_tf.layers[-1] = helpers.modify_tf_block(\n",
    "    head_layer,\n",
    "    np_state_dict[\"head.weight\"],\n",
    "    np_state_dict[\"head.bias\"],\n",
    ")"
   ]
  },
  {
   "cell_type": "code",
   "execution_count": 9,
   "id": "3e74e7ca",
   "metadata": {},
   "outputs": [
    {
     "data": {
      "text/plain": [
       "['layers.0.blocks.0.norm1.weight',\n",
       " 'layers.0.blocks.0.norm1.bias',\n",
       " 'layers.0.blocks.0.attn.relative_position_bias_table',\n",
       " 'layers.0.blocks.0.attn.relative_position_index',\n",
       " 'layers.0.blocks.0.attn.qkv.weight',\n",
       " 'layers.0.blocks.0.attn.qkv.bias',\n",
       " 'layers.0.blocks.0.attn.proj.weight',\n",
       " 'layers.0.blocks.0.attn.proj.bias',\n",
       " 'layers.0.blocks.0.norm2.weight',\n",
       " 'layers.0.blocks.0.norm2.bias',\n",
       " 'layers.0.blocks.0.mlp.fc1.weight',\n",
       " 'layers.0.blocks.0.mlp.fc1.bias',\n",
       " 'layers.0.blocks.0.mlp.fc2.weight',\n",
       " 'layers.0.blocks.0.mlp.fc2.bias',\n",
       " 'layers.0.blocks.1.attn_mask',\n",
       " 'layers.0.blocks.1.norm1.weight',\n",
       " 'layers.0.blocks.1.norm1.bias',\n",
       " 'layers.0.blocks.1.attn.relative_position_bias_table',\n",
       " 'layers.0.blocks.1.attn.relative_position_index',\n",
       " 'layers.0.blocks.1.attn.qkv.weight',\n",
       " 'layers.0.blocks.1.attn.qkv.bias',\n",
       " 'layers.0.blocks.1.attn.proj.weight',\n",
       " 'layers.0.blocks.1.attn.proj.bias',\n",
       " 'layers.0.blocks.1.norm2.weight',\n",
       " 'layers.0.blocks.1.norm2.bias',\n",
       " 'layers.0.blocks.1.mlp.fc1.weight',\n",
       " 'layers.0.blocks.1.mlp.fc1.bias',\n",
       " 'layers.0.blocks.1.mlp.fc2.weight',\n",
       " 'layers.0.blocks.1.mlp.fc2.bias',\n",
       " 'layers.0.downsample.reduction.weight',\n",
       " 'layers.0.downsample.norm.weight',\n",
       " 'layers.0.downsample.norm.bias']"
      ]
     },
     "execution_count": 9,
     "metadata": {},
     "output_type": "execute_result"
    }
   ],
   "source": [
    "list(filter(lambda x: \"layers.0\" in x, np_state_dict.keys()))"
   ]
  },
  {
   "cell_type": "code",
   "execution_count": 10,
   "id": "5110563d",
   "metadata": {},
   "outputs": [],
   "source": [
    "def modify_swin_blocks(pt_weights_prefix, tf_block):\n",
    "    # Patch merging.\n",
    "    for layer in tf_block:\n",
    "        if isinstance(layer, PatchMerging):\n",
    "            patch_merging_idx = f\"{pt_weights_prefix}.downsample\"\n",
    "\n",
    "            layer.reduction = helpers.modify_tf_block(\n",
    "                layer.reduction,\n",
    "                np_state_dict[f\"{patch_merging_idx}.reduction.weight\"],\n",
    "            )\n",
    "            layer.norm = helpers.modify_tf_block(\n",
    "                layer.norm,\n",
    "                np_state_dict[f\"{patch_merging_idx}.norm.weight\"],\n",
    "                np_state_dict[f\"{patch_merging_idx}.norm.bias\"],\n",
    "            )\n",
    "\n",
    "    # Swin layers.\n",
    "    common_prefix = f\"{pt_weights_prefix}.blocks\"\n",
    "    block_idx = 0\n",
    "\n",
    "    for outer_layer in tf_block:\n",
    "\n",
    "        layernorm_idx = 1\n",
    "        mlp_layer_idx = 1\n",
    "\n",
    "        if isinstance(outer_layer, SwinTransformerBlock):\n",
    "            for inner_layer in outer_layer.layers:\n",
    "\n",
    "                # Layer norm.\n",
    "                if isinstance(inner_layer, tf.keras.layers.LayerNormalization):\n",
    "                    layer_norm_prefix = (\n",
    "                        f\"{common_prefix}.{block_idx}.norm{layernorm_idx}\"\n",
    "                    )\n",
    "                    inner_layer.gamma.assign(\n",
    "                        tf.Variable(np_state_dict[f\"{layer_norm_prefix}.weight\"])\n",
    "                    )\n",
    "                    inner_layer.beta.assign(\n",
    "                        tf.Variable(np_state_dict[f\"{layer_norm_prefix}.bias\"])\n",
    "                    )\n",
    "                    layernorm_idx += 1\n",
    "\n",
    "                # Windown attention.\n",
    "                elif isinstance(inner_layer, WindowAttention):\n",
    "                    attn_prefix = f\"{common_prefix}.{block_idx}.attn\"\n",
    "\n",
    "                    # Relative position.\n",
    "                    inner_layer.relative_position_bias_table = helpers.modify_tf_block(\n",
    "                        inner_layer.relative_position_bias_table,\n",
    "                        np_state_dict[f\"{attn_prefix}.relative_position_bias_table\"],\n",
    "                    )\n",
    "                    inner_layer.relative_position_index = helpers.modify_tf_block(\n",
    "                        inner_layer.relative_position_index,\n",
    "                        np_state_dict[f\"{attn_prefix}.relative_position_index\"],\n",
    "                    )\n",
    "\n",
    "                    # QKV.\n",
    "                    inner_layer.qkv = helpers.modify_tf_block(\n",
    "                        inner_layer.qkv,\n",
    "                        np_state_dict[f\"{attn_prefix}.qkv.weight\"],\n",
    "                        np_state_dict[f\"{attn_prefix}.qkv.bias\"],\n",
    "                    )\n",
    "\n",
    "                    # Projection.\n",
    "                    inner_layer.proj = helpers.modify_tf_block(\n",
    "                        inner_layer.proj,\n",
    "                        np_state_dict[f\"{attn_prefix}.proj.weight\"],\n",
    "                        np_state_dict[f\"{attn_prefix}.proj.bias\"],\n",
    "                    )\n",
    "\n",
    "                # MLP.\n",
    "                elif isinstance(inner_layer, tf.keras.Model):\n",
    "                    mlp_prefix = f\"{common_prefix}.{block_idx}.mlp\"\n",
    "                    for mlp_layer in inner_layer.layers:\n",
    "                        if isinstance(mlp_layer, tf.keras.layers.Dense):\n",
    "                            mlp_layer = helpers.modify_tf_block(\n",
    "                                mlp_layer,\n",
    "                                np_state_dict[f\"{mlp_prefix}.fc{mlp_layer_idx}.weight\"],\n",
    "                                np_state_dict[f\"{mlp_prefix}.fc{mlp_layer_idx}.bias\"],\n",
    "                            )\n",
    "                            mlp_layer_idx += 1\n",
    "\n",
    "            block_idx += 1\n",
    "    return tf_block"
   ]
  },
  {
   "cell_type": "code",
   "execution_count": 11,
   "id": "d86f8295",
   "metadata": {},
   "outputs": [],
   "source": [
    "_ = modify_swin_blocks(\n",
    "    \"layers.0\",\n",
    "    swin_base_patch4_window7_224_tf.layers[2].layers,\n",
    ")"
   ]
  },
  {
   "cell_type": "code",
   "execution_count": 12,
   "id": "96f1d426",
   "metadata": {},
   "outputs": [],
   "source": [
    "tf_block = swin_base_patch4_window7_224_tf.layers[2].layers\n",
    "pt_weights_prefix = \"layers.0\"\n",
    "\n",
    "# Patch merging.\n",
    "for layer in tf_block:\n",
    "    if isinstance(layer, PatchMerging):\n",
    "        patch_merging_idx = f\"{pt_weights_prefix}.downsample\"\n",
    "        np.testing.assert_allclose(\n",
    "            np_state_dict[f\"{patch_merging_idx}.reduction.weight\"].transpose(),\n",
    "            layer.reduction.kernel.numpy(),\n",
    "        )\n",
    "        np.testing.assert_allclose(\n",
    "            np_state_dict[f\"{patch_merging_idx}.norm.weight\"], layer.norm.gamma.numpy()\n",
    "        )\n",
    "        np.testing.assert_allclose(\n",
    "            np_state_dict[f\"{patch_merging_idx}.norm.bias\"], layer.norm.beta.numpy()\n",
    "        )\n",
    "\n",
    "# Swin layers.\n",
    "common_prefix = f\"{pt_weights_prefix}.blocks\"\n",
    "block_idx = 0\n",
    "\n",
    "for outer_layer in tf_block:\n",
    "\n",
    "    layernorm_idx = 1\n",
    "    mlp_layer_idx = 1\n",
    "\n",
    "    if isinstance(outer_layer, SwinTransformerBlock):\n",
    "        for inner_layer in outer_layer.layers:\n",
    "\n",
    "            # Layer norm.\n",
    "            if isinstance(inner_layer, tf.keras.layers.LayerNormalization):\n",
    "                layer_norm_prefix = f\"{common_prefix}.{block_idx}.norm{layernorm_idx}\"\n",
    "                np.testing.assert_allclose(\n",
    "                    np_state_dict[f\"{layer_norm_prefix}.weight\"],\n",
    "                    inner_layer.gamma.numpy(),\n",
    "                )\n",
    "                np.testing.assert_allclose(\n",
    "                    np_state_dict[f\"{layer_norm_prefix}.bias\"], inner_layer.beta.numpy()\n",
    "                )\n",
    "                layernorm_idx += 1\n",
    "\n",
    "            # Windown attention.\n",
    "            elif isinstance(inner_layer, WindowAttention):\n",
    "                attn_prefix = f\"{common_prefix}.{block_idx}.attn\"\n",
    "\n",
    "                # Relative position.\n",
    "                np.testing.assert_allclose(\n",
    "                    np_state_dict[f\"{attn_prefix}.relative_position_bias_table\"],\n",
    "                    inner_layer.relative_position_bias_table.numpy(),\n",
    "                )\n",
    "\n",
    "                np.testing.assert_allclose(\n",
    "                    np_state_dict[f\"{attn_prefix}.relative_position_index\"],\n",
    "                    inner_layer.relative_position_index.numpy(),\n",
    "                )\n",
    "\n",
    "                # QKV.\n",
    "                np.testing.assert_allclose(\n",
    "                    np_state_dict[f\"{attn_prefix}.qkv.weight\"].transpose(),\n",
    "                    inner_layer.qkv.kernel.numpy(),\n",
    "                )\n",
    "                np.testing.assert_allclose(\n",
    "                    np_state_dict[f\"{attn_prefix}.qkv.bias\"],\n",
    "                    inner_layer.qkv.bias.numpy(),\n",
    "                )\n",
    "\n",
    "                # Projection.\n",
    "                np.testing.assert_allclose(\n",
    "                    np_state_dict[f\"{attn_prefix}.proj.weight\"].transpose(),\n",
    "                    inner_layer.proj.kernel.numpy(),\n",
    "                )\n",
    "                np.testing.assert_allclose(\n",
    "                    np_state_dict[f\"{attn_prefix}.proj.bias\"],\n",
    "                    inner_layer.proj.bias.numpy(),\n",
    "                )\n",
    "\n",
    "            # MLP.\n",
    "            elif isinstance(inner_layer, tf.keras.Model):\n",
    "                mlp_prefix = f\"{common_prefix}.{block_idx}.mlp\"\n",
    "                for mlp_layer in inner_layer.layers:\n",
    "                    if isinstance(mlp_layer, tf.keras.layers.Dense):\n",
    "                        np.testing.assert_allclose(\n",
    "                            np_state_dict[\n",
    "                                f\"{mlp_prefix}.fc{mlp_layer_idx}.weight\"\n",
    "                            ].transpose(),\n",
    "                            mlp_layer.kernel.numpy(),\n",
    "                        )\n",
    "                        np.testing.assert_allclose(\n",
    "                            np_state_dict[f\"{mlp_prefix}.fc{mlp_layer_idx}.bias\"],\n",
    "                            mlp_layer.bias.numpy(),\n",
    "                        )\n",
    "\n",
    "                        mlp_layer_idx += 1\n",
    "\n",
    "        block_idx += 1"
   ]
  },
  {
   "cell_type": "code",
   "execution_count": 13,
   "id": "326a5cd0",
   "metadata": {},
   "outputs": [],
   "source": [
    "for i in range(len(cfg[\"depths\"])):\n",
    "    _ = modify_swin_blocks(\n",
    "        f\"layers.{i}\",\n",
    "        swin_base_patch4_window7_224_tf.layers[i+2].layers,\n",
    "    )"
   ]
  },
  {
   "cell_type": "code",
   "execution_count": 14,
   "id": "3934dfc4",
   "metadata": {},
   "outputs": [],
   "source": [
    "import requests\n",
    "from PIL import Image\n",
    "from io import BytesIO\n",
    "\n",
    "import matplotlib.pyplot as plt"
   ]
  },
  {
   "cell_type": "code",
   "execution_count": 15,
   "id": "123424d4",
   "metadata": {},
   "outputs": [],
   "source": [
    "input_resolution = 224\n",
    "\n",
    "crop_layer = tf.keras.layers.CenterCrop(input_resolution, input_resolution)\n",
    "norm_layer = tf.keras.layers.Normalization(\n",
    "    mean=[0.485 * 255, 0.456 * 255, 0.406 * 255],\n",
    "    variance=[(0.229 * 255) ** 2, (0.224 * 255) ** 2, (0.225 * 255) ** 2],\n",
    ")\n",
    "\n",
    "\n",
    "def preprocess_image(image, size=input_resolution):\n",
    "    image = np.array(image)\n",
    "    image_resized = tf.expand_dims(image, 0)\n",
    "    resize_size = int((256 / 224) * size)\n",
    "    image_resized = tf.image.resize(\n",
    "        image_resized, (resize_size, resize_size), method=\"bicubic\"\n",
    "    )\n",
    "    image_resized = crop_layer(image_resized)\n",
    "    return norm_layer(image_resized).numpy()\n",
    "\n",
    "\n",
    "def load_image_from_url(url):\n",
    "    # Credit: Willi Gierke\n",
    "    response = requests.get(url)\n",
    "    image = Image.open(BytesIO(response.content))\n",
    "    preprocessed_image = preprocess_image(image)\n",
    "    return image, preprocessed_image"
   ]
  },
  {
   "cell_type": "code",
   "execution_count": 16,
   "id": "cc13bbe5",
   "metadata": {},
   "outputs": [],
   "source": [
    "# !wget https://storage.googleapis.com/bit_models/ilsvrc2012_wordnet_lemmas.txt -O ilsvrc2012_wordnet_lemmas.txt"
   ]
  },
  {
   "cell_type": "code",
   "execution_count": 17,
   "id": "7218a1ab",
   "metadata": {},
   "outputs": [],
   "source": [
    "with open(\"ilsvrc2012_wordnet_lemmas.txt\", \"r\") as f:\n",
    "    lines = f.readlines()\n",
    "imagenet_int_to_str = [line.rstrip() for line in lines]\n",
    "\n",
    "img_url = \"https://p0.pikrepo.com/preview/853/907/close-up-photo-of-gray-elephant.jpg\"\n",
    "image, preprocessed_image = load_image_from_url(img_url)"
   ]
  },
  {
   "cell_type": "code",
   "execution_count": 18,
   "id": "9fb02fb7",
   "metadata": {},
   "outputs": [],
   "source": [
    "predictions = swin_base_patch4_window7_224_tf.predict(preprocessed_image)\n",
    "logits = predictions[0]\n",
    "predicted_label = imagenet_int_to_str[int(np.argmax(logits))]\n",
    "expected_label = \"Indian_elephant, Elephas_maximus\"\n",
    "assert (\n",
    "    predicted_label == expected_label\n",
    "), f\"Expected {expected_label} but was {predicted_label}\""
   ]
  },
  {
   "cell_type": "code",
   "execution_count": 19,
   "id": "6a6cd26a",
   "metadata": {},
   "outputs": [
    {
     "data": {
      "text/plain": [
       "dict_keys(['swin_stage_0', 'swin_stage_1', 'swin_stage_2', 'swin_stage_3'])"
      ]
     },
     "execution_count": 19,
     "metadata": {},
     "output_type": "execute_result"
    }
   ],
   "source": [
    "all_attn_scores = swin_base_patch4_window7_224_tf.get_attention_scores(\n",
    "    preprocessed_image\n",
    ")\n",
    "all_attn_scores.keys()"
   ]
  },
  {
   "cell_type": "code",
   "execution_count": 20,
   "id": "bd94bedf",
   "metadata": {},
   "outputs": [
    {
     "data": {
      "text/plain": [
       "dict_keys(['swin_block_0', 'swin_block_1'])"
      ]
     },
     "execution_count": 20,
     "metadata": {},
     "output_type": "execute_result"
    }
   ],
   "source": [
    "all_attn_scores[\"swin_stage_3\"].keys()"
   ]
  },
  {
   "cell_type": "code",
   "execution_count": 21,
   "id": "525004de",
   "metadata": {},
   "outputs": [
    {
     "data": {
      "text/plain": [
       "TensorShape([1, 32, 49, 49])"
      ]
     },
     "execution_count": 21,
     "metadata": {},
     "output_type": "execute_result"
    }
   ],
   "source": [
    "all_attn_scores[\"swin_stage_3\"][\"swin_block_0\"].shape"
   ]
  }
 ],
 "metadata": {
  "kernelspec": {
   "display_name": "Python 3 (ipykernel)",
   "language": "python",
   "name": "python3"
  },
  "language_info": {
   "codemirror_mode": {
    "name": "ipython",
    "version": 3
   },
   "file_extension": ".py",
   "mimetype": "text/x-python",
   "name": "python",
   "nbconvert_exporter": "python",
   "pygments_lexer": "ipython3",
   "version": "3.8.2"
  }
 },
 "nbformat": 4,
 "nbformat_minor": 5
}
